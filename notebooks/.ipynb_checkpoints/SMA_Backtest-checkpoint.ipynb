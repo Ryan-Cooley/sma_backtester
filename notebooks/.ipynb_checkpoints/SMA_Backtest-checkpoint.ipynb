{
 "cells": [
  {
   "cell_type": "markdown",
   "metadata": {},
   "source": [
    "# 20/50-day SMA Crossover Backtest\n",
    "\n",
    "This notebook demonstrates a simple moving average (SMA) crossover backtest on SPY using 20/50-day windows."
   ]
  },
  {
   "cell_type": "code",
   "execution_count": null,
   "metadata": {},
   "outputs": [],
   "source": [
    "from src.data_loader import fetch_data\n",
    "from src.indicators import compute_sma\n",
    "from src.signals import generate_signals\n",
    "from src.backtester import backtest_signals\n",
    "from src.metrics import compute_cumulative_return, compute_sharpe_ratio, compute_max_drawdown, plot_equity_curve\n",
    "import pandas as pd\n",
    "from datetime import datetime"
   ]
  },
  {
   "cell_type": "markdown",
   "metadata": {},
   "source": [
    "## Fetch SPY data from 2015-01-01 to today"
   ]
  },
  {
   "cell_type": "code",
   "execution_count": null,
   "metadata": {},
   "outputs": [],
   "source": [
    "end_date = datetime.today().strftime('%Y-%m-%d')\n",
    "df = fetch_data('SPY', '2015-01-01', end_date)\n",
    "df.head()"
   ]
  },
  {
   "cell_type": "markdown",
   "metadata": {},
   "source": [
    "## Compute 20/50-day SMAs and generate signals"
   ]
  },
  {
   "cell_type": "code",
   "execution_count": null,
   "metadata": {},
   "outputs": [],
   "source": [
    "df['SMA_fast'] = compute_sma(df, 20)\n",
    "df['SMA_slow'] = compute_sma(df, 50)\n",
    "df = generate_signals(df)\n",
    "df[['Close', 'SMA_fast', 'SMA_slow', 'signal']].tail()"
   ]
  },
  {
   "cell_type": "markdown",
   "metadata": {},
   "source": [
    "## Run backtest with $100,000 initial cash and 0.1% transaction cost"
   ]
  },
  {
   "cell_type": "code",
   "execution_count": null,
   "metadata": {},
   "outputs": [],
   "source": [
    "results = backtest_signals(df, initial_cash=100000, transaction_cost=0.001)\n",
    "results.tail()"
   ]
  },
  {
   "cell_type": "markdown",
   "metadata": {},
   "source": [
    "## Calculate and print performance metrics"
   ]
  },
  {
   "cell_type": "code",
   "execution_count": null,
   "metadata": {},
   "outputs": [],
   "source": [
    "cumulative_return = compute_cumulative_return(results['portfolio_value'])\n",
    "sharpe = compute_sharpe_ratio(results['portfolio_value'])\n",
    "max_dd = compute_max_drawdown(results['portfolio_value'])\n",
    "print(f'Cumulative Return: {cumulative_return:.2%}')\n",
    "print(f'Sharpe Ratio: {sharpe:.2f}')\n",
    "print(f'Max Drawdown: {max_dd:.2%}')"
   ]
  },
  {
   "cell_type": "markdown",
   "metadata": {},
   "source": [
    "## Plot the equity curve"
   ]
  },
  {
   "cell_type": "code",
   "execution_count": null,
   "metadata": {},
   "outputs": [],
   "source": [
    "plot_equity_curve(results['portfolio_value'])"
   ]
  },
  {
   "cell_type": "markdown",
   "metadata": {},
   "source": [
    "### Commentary\n",
    "- The 20/50-day SMA crossover strategy is a classic trend-following approach.\n",
    "- Review the cumulative return, Sharpe ratio, and max drawdown above.\n",
    "- The equity curve plot visualizes the growth of the portfolio over time.\n",
    "- Consider experimenting with different parameters or assets for further analysis."
   ]
  }
 ],
 "metadata": {
  "kernelspec": {
   "display_name": "Python 3",
   "language": "python",
   "name": "python3"
  },
  "language_info": {
   "name": "python",
   "version": "3.11"
  }
 },
 "nbformat": 4,
 "nbformat_minor": 5
}