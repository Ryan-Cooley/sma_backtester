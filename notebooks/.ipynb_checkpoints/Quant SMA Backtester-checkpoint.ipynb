{
 "cells": [
  {
   "cell_type": "markdown",
   "id": "6f95227b",
   "metadata": {},
   "source": [
    "# Interactive SMA Crossover Backtester\n",
    "\n",
    "Explore SMA crossover strategies with real-time parameter tuning and instant visualization updates."
   ]
  },
  {
   "cell_type": "markdown",
   "id": "b119f636",
   "metadata": {},
   "source": [
    "## One-Time Terminal Setup\n",
    "\n",
    "Enable the widgets extension by running:\n",
    "\n",
    "```bash\n",
    "jupyter nbextension enable --py widgetsnbextension --sys-prefix\n",
    "```\n",
    "Then restart the notebook server."
   ]
  },
  {
   "cell_type": "markdown",
   "id": "6b37f690",
   "metadata": {},
   "source": [
    "## Cell 6: Usage Instructions\n",
    "- Adjust the controls above to re‑run the backtest instantly.  \n",
    "- Preset buttons will jump to common SMA pairs.  \n",
    "- Invalid inputs show errors in the metrics pane."
   ]
  },
  {
   "cell_type": "markdown",
   "id": "22a58930",
   "metadata": {},
   "source": [
    "## Cell 6: Usage Instructions\n",
    "- Adjust the controls above to re‑run the backtest instantly.  \n",
    "- Preset buttons will jump to common SMA pairs.  \n",
    "- Invalid inputs show errors in the metrics pane."
   ]
  },
  {
   "cell_type": "markdown",
   "id": "494a2f7a",
   "metadata": {},
   "source": [
    "## Cell 6: Usage Instructions\n",
    "- Adjust the controls above to re‑run the backtest instantly.  \n",
    "- Preset buttons will jump to common SMA pairs.  \n",
    "- Invalid inputs show errors in the metrics pane."
   ]
  },
  {
   "cell_type": "markdown",
   "id": "aeee267f",
   "metadata": {},
   "source": [
    "## Cell 6: Usage Instructions\n",
    "- Adjust the controls above to re‑run the backtest instantly.  \n",
    "- Preset buttons will jump to common SMA pairs.  \n",
    "- Invalid inputs show errors in the metrics pane."
   ]
  },
  {
   "cell_type": "code",
   "execution_count": null,
   "id": "e25915b4",
   "metadata": {},
   "outputs": [],
   "source": [
    "%matplotlib inline\n",
    "import sys, os\n",
    "sys.path.append(os.path.abspath('..'))\n",
    "from datetime import datetime\n",
    "import pandas as pd, numpy as np, matplotlib.pyplot as plt\n",
    "from ipywidgets import widgets, VBox, HBox, Output, interactive_output\n",
    "from IPython.display import display, clear_output\n",
    "from src.data_loader import fetch_data\n",
    "from src.indicators   import compute_sma\n",
    "from src.signals      import generate_signals\n",
    "from src.backtester   import backtest_signals\n",
    "from src.metrics      import compute_cumulative_return, compute_sharpe_ratio, compute_max_drawdown"
   ]
  },
  {
   "cell_type": "code",
   "execution_count": null,
   "id": "f349e6e3",
   "metadata": {},
   "outputs": [],
   "source": [
    "_default_df = fetch_data('SPY', '2015-01-01', datetime.today().strftime('%Y-%m-%d'))\n",
    "def get_cached_df(ticker, start_str, end_str):\n",
    "    if ticker.upper()=='SPY' and start_str=='2015-01-01':\n",
    "        return _default_df.copy()\n",
    "    else:\n",
    "        return fetch_data(ticker, start_str, end_str)"
   ]
  },
  {
   "cell_type": "code",
   "execution_count": null,
   "id": "04793bc8",
   "metadata": {},
   "outputs": [],
   "source": [
    "ticker_widget = widgets.Text(value='SPY', description='Ticker:', style={'description_width':'80px'})\n",
    "start_date_widget = widgets.DatePicker(value=datetime(2015,1,1), description='Start:')\n",
    "end_date_widget = widgets.DatePicker(value=datetime.today(),   description='End:')\n",
    "fast_sma_widget = widgets.IntSlider(value=20, min=5, max=100, step=5, description='Fast SMA:')\n",
    "slow_sma_widget = widgets.IntSlider(value=50, min=10, max=200, step=5, description='Slow SMA:')\n",
    "initial_cash_widget = widgets.IntText(value=100000, description='Cash:', step=10000)\n",
    "transaction_cost_widget = widgets.FloatSlider(value=0.001, min=0, max=0.01, step=0.0001, description='Tx Cost:')\n",
    "metrics_output = Output()\n",
    "plots_output = Output()\n",
    "controls = VBox([\n",
    "    HBox([ticker_widget, start_date_widget, end_date_widget]),\n",
    "    HBox([fast_sma_widget, slow_sma_widget]),\n",
    "    HBox([initial_cash_widget, transaction_cost_widget])\n",
    "])\n",
    "display(controls, metrics_output, plots_output)"
   ]
  },
  {
   "cell_type": "code",
   "execution_count": null,
   "id": "2c75a72b",
   "metadata": {},
   "outputs": [],
   "source": [
    "def run_interactive_backtest(ticker, start_date, end_date,\n",
    "                             fast_sma, slow_sma,\n",
    "                             initial_cash, transaction_cost):\n",
    "    if fast_sma >= slow_sma:\n",
    "        with metrics_output: clear_output(); print('❌ Fast SMA must be less than Slow SMA')\n",
    "        with plots_output: clear_output()\n",
    "        return\n",
    "    start_str = start_date.strftime('%Y-%m-%d')\n",
    "    end_str   = end_date.strftime('%Y-%m-%d')\n",
    "    try:\n",
    "        df = get_cached_df(ticker, start_str, end_str)\n",
    "        df['SMA_fast'] = compute_sma(df, fast_sma)\n",
    "        df['SMA_slow'] = compute_sma(df, slow_sma)\n",
    "        df = generate_signals(df)\n",
    "        results = backtest_signals(df, initial_cash=initial_cash, transaction_cost=transaction_cost)\n",
    "        cum_ret = compute_cumulative_return(results['portfolio_value'])\n",
    "        sharpe  = compute_sharpe_ratio(results['portfolio_value'])\n",
    "        max_dd  = compute_max_drawdown(results['portfolio_value'])\n",
    "        with metrics_output:\n",
    "            clear_output()\n",
    "            print(f'📊 {ticker} | {start_str} → {end_str}')\n",
    "            print(f'  SMA: {fast_sma}/{slow_sma}')\n",
    "            print(f'  Return: {cum_ret:.2%}')\n",
    "            print(f'  Sharpe: {sharpe:.2f}')\n",
    "            print(f'  Drawdown: {max_dd:.2%}')\n",
    "            print(f'  Final: ${results['portfolio_value'].iloc[-1]:,}')\n",
    "        with plots_output:\n",
    "            clear_output()\n",
    "            fig, axes = plt.subplots(2,2, figsize=(14,10))\n",
    "            ax1, ax2, ax3, ax4 = axes.flat\n",
    "            ax1.plot(df.index, df['Close'], label='Close', alpha=0.7)\n",
    "            ax1.plot(df.index, df['SMA_fast'], label=f'Fast {fast_sma}', alpha=0.7)\n",
    "            ax1.plot(df.index, df['SMA_slow'], label=f'Slow {slow_sma}', alpha=0.7)\n",
    "            buys = df['signal'].diff()>0\n",
    "            sells = df['signal'].diff()<0\n",
    "            ax1.scatter(df.index[buys], df['Close'][buys], marker='^', s=60, zorder=5)\n",
    "            ax1.scatter(df.index[sells], df['Close'][sells], marker='v', s=60, zorder=5)\n",
    "            ax1.set_title('Price & Signals'); ax1.legend(); ax1.grid(alpha=0.3)\n",
    "            ax2.plot(results['portfolio_value'], linewidth=2)\n",
    "            ax2.set_title('Equity Curve'); ax2.grid(alpha=0.3)\n",
    "            cum_max = results['portfolio_value'].cummax()\n",
    "            drawdown = (results['portfolio_value'] - cum_max)/cum_max\n",
    "            ax3.fill_between(drawdown.index, drawdown, 0, alpha=0.3)\n",
    "            ax3.set_title('Drawdown'); ax3.grid(alpha=0.3)\n",
    "            if len(results['portfolio_value'])>252:\n",
    "                rets = results['portfolio_value'].pct_change().dropna()\n",
    "                rs = rets.rolling(252).mean()/rets.rolling(252).std()*np.sqrt(252)\n",
    "                ax4.plot(rs); ax4.axhline(0, linestyle='--', alpha=0.5)\n",
    "            else:\n",
    "                ax4.text(0.5,0.5,'Not enough data', ha='center', va='center', transform=ax4.transAxes)\n",
    "            ax4.set_title('Rolling Sharpe'); ax4.grid(alpha=0.3)\n",
    "            plt.tight_layout(); plt.show()\n",
    "    except Exception as e:\n",
    "        with metrics_output: clear_output(); print('❌ Error:', e)\n",
    "        with plots_output: clear_output()\n"
   ]
  },
  {
   "cell_type": "code",
   "execution_count": null,
   "id": "f9bcb9ec",
   "metadata": {},
   "outputs": [],
   "source": [
    "out = interactive_output(\n",
    "    run_interactive_backtest,\n",
    "    {\n",
    "        'ticker': ticker_widget,\n",
    "        'start_date': start_date_widget,\n",
    "        'end_date': end_date_widget,\n",
    "        'fast_sma': fast_sma_widget,\n",
    "        'slow_sma': slow_sma_widget,\n",
    "        'initial_cash': initial_cash_widget,\n",
    "        'transaction_cost': transaction_cost_widget\n",
    "    }\n",
    ")\n",
    "display(out)"
   ]
  },
  {
   "cell_type": "code",
   "execution_count": null,
   "id": "f4dd33bb",
   "metadata": {},
   "outputs": [],
   "source": [
    "for name, (f,s,tkr) in {\n",
    "    '10/30 SPY': (10,30,'SPY'),\n",
    "    '20/50 QQQ': (20,50,'QQQ'),\n",
    "    '50/200 SPY': (50,200,'SPY')\n",
    "}.items():\n",
    "    btn = widgets.Button(description=name)\n",
    "    btn.on_click(lambda b, f=f, s=s, tkr=tkr: (fast_sma_widget.__setattr__('value', f), slow_sma_widget.__setattr__('value', s), ticker_widget.__setattr__('value', tkr)))\n",
    "    display(btn)"
   ]
  },
  {
   "cell_type": "markdown",
   "id": "bae15699",
   "metadata": {},
   "source": [
    "## Usage Instructions\n",
    "\n",
    "- Adjust controls above to re-run the backtest instantly.\n",
    "- Preset buttons jump to common SMA configurations.\n",
    "- View results and errors in the metrics panel below controls.\n",
    "- For interactive plots, install `ipympl` and switch magic to `%matplotlib widget`."
   ]
  }
 ],
 "metadata": {
  "language_info": {
   "name": "python"
  }
 },
 "nbformat": 4,
 "nbformat_minor": 5
}
