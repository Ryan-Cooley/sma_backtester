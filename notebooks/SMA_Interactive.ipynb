{
 "cells": [
  {
   "cell_type": "markdown",
   "id": "1f738398",
   "metadata": {},
   "source": [
    "# Interactive SMA Crossover Backtester\n",
    "\n",
    "This notebook provides an interactive interface for exploring SMA crossover strategies with real-time parameter tuning and visualization updates."
   ]
  },
  {
   "cell_type": "markdown",
   "id": "aaedf9ae",
   "metadata": {},
   "source": [
    "## Cell 1: Imports and Setup"
   ]
  },
  {
   "cell_type": "code",
   "execution_count": 1,
   "id": "4023c624",
   "metadata": {},
   "outputs": [],
   "source": [
    "# In‑notebook magic\n",
    "%matplotlib inline\n",
    "\n",
    "import sys, os\n",
    "sys.path.append(os.path.abspath('..'))\n",
    "\n",
    "from datetime import datetime\n",
    "import pandas as pd\n",
    "import numpy as np\n",
    "import matplotlib.pyplot as plt\n",
    "\n",
    "from ipywidgets import widgets, VBox, HBox, Output, interactive_output, interact\n",
    "from IPython.display import display, clear_output\n",
    "\n",
    "from src.data_loader   import fetch_data\n",
    "from src.indicators    import compute_sma\n",
    "from src.signals       import generate_signals\n",
    "from src.backtester    import backtest_signals\n",
    "from src.metrics       import compute_cumulative_return, compute_sharpe_ratio, compute_max_drawdown"
   ]
  },
  {
   "cell_type": "markdown",
   "id": "58b7cf58",
   "metadata": {},
   "source": [
    "## Cell 2: Preload and Cache Data"
   ]
  },
  {
   "cell_type": "code",
   "execution_count": 2,
   "id": "06aa8f0d",
   "metadata": {},
   "outputs": [
    {
     "name": "stdout",
     "output_type": "stream",
     "text": [
      "Fetched data for SPY from Stooq.\n"
     ]
    }
   ],
   "source": [
    "# Fetch once for default; keeps data in memory for fast reuse\n",
    "_default_df = fetch_data(\n",
    "    'SPY',\n",
    "    '2015-01-01',\n",
    "    datetime.today().strftime('%Y-%m-%d')\n",
    ")\n",
    "\n",
    "def get_cached_df(ticker, start_str, end_str):\n",
    "    \"\"\"Return a copy of the preloaded SPY frame or fetch new data if different.\"\"\"\n",
    "    if ticker.upper()=='SPY' and start_str=='2015-01-01':\n",
    "        return _default_df.copy()\n",
    "    else:\n",
    "        return fetch_data(ticker, start_str, end_str)"
   ]
  },
  {
   "cell_type": "markdown",
   "id": "f1a63130",
   "metadata": {},
   "source": [
    "## Cell 3: Widgets and Layout"
   ]
  },
  {
   "cell_type": "code",
   "execution_count": 3,
   "id": "b764f66c",
   "metadata": {},
   "outputs": [
    {
     "data": {
      "application/vnd.jupyter.widget-view+json": {
       "model_id": "332506cf183540c383f728fc9e4823f2",
       "version_major": 2,
       "version_minor": 0
      },
      "text/plain": [
       "VBox(children=(HBox(children=(Text(value='SPY', description='Ticker:', style=TextStyle(description_width='80px…"
      ]
     },
     "metadata": {},
     "output_type": "display_data"
    },
    {
     "data": {
      "application/vnd.jupyter.widget-view+json": {
       "model_id": "c1f33e8e449d46aba06b994f7f161bee",
       "version_major": 2,
       "version_minor": 0
      },
      "text/plain": [
       "Output()"
      ]
     },
     "metadata": {},
     "output_type": "display_data"
    },
    {
     "data": {
      "application/vnd.jupyter.widget-view+json": {
       "model_id": "60b2d845441546548323cc46c6317817",
       "version_major": 2,
       "version_minor": 0
      },
      "text/plain": [
       "Output()"
      ]
     },
     "metadata": {},
     "output_type": "display_data"
    }
   ],
   "source": [
    "# Parameter widgets\n",
    "ticker_widget           = widgets.Text(value='SPY', description='Ticker:', style={'description_width':'80px'})\n",
    "start_date_widget       = widgets.DatePicker(value=datetime(2015,1,1), description='Start:')\n",
    "end_date_widget         = widgets.DatePicker(value=datetime.today(),   description='End:')\n",
    "fast_sma_widget         = widgets.IntSlider( value=20, min=5,   max=100,  step=5,   description='Fast SMA:')\n",
    "slow_sma_widget         = widgets.IntSlider( value=50, min=10,  max=200,  step=5,   description='Slow SMA:')\n",
    "initial_cash_widget     = widgets.IntText(   value=100000,        description='Cash:',  step=10000)\n",
    "transaction_cost_widget = widgets.FloatSlider(value=0.001, min=0, max=0.01, step=0.0001, description='Tx Cost:')\n",
    "\n",
    "# Output areas\n",
    "metrics_output = Output()\n",
    "plots_output   = Output()\n",
    "\n",
    "# Layout\n",
    "controls = VBox([\n",
    "    HBox([ticker_widget, start_date_widget, end_date_widget]),\n",
    "    HBox([fast_sma_widget, slow_sma_widget]),\n",
    "    HBox([initial_cash_widget, transaction_cost_widget])\n",
    "])\n",
    "\n",
    "display(controls, metrics_output, plots_output)"
   ]
  },
  {
   "cell_type": "markdown",
   "id": "372cd9b1",
   "metadata": {},
   "source": [
    "## Cell 4: Backtest function + interactive_output"
   ]
  },
  {
   "cell_type": "code",
   "execution_count": 4,
   "id": "82ebf2d0",
   "metadata": {},
   "outputs": [
    {
     "data": {
      "application/vnd.jupyter.widget-view+json": {
       "model_id": "6feec5063c8448dfae165bc9763ed274",
       "version_major": 2,
       "version_minor": 0
      },
      "text/plain": [
       "interactive(children=(Text(value='SPY', description='Ticker:', style=TextStyle(description_width='80px')), Dat…"
      ]
     },
     "metadata": {},
     "output_type": "display_data"
    },
    {
     "name": "stdout",
     "output_type": "stream",
     "text": [
      "🎯 Interactive backtester ready! Adjust the parameters above to see real-time results.\n"
     ]
    }
   ],
   "source": [
    "def run_interactive_backtest(ticker, start_date, end_date, fast_sma, slow_sma, initial_cash, transaction_cost):\n",
    "    # [Function implementation from checkpoint]\n",
    "    \"\"\"\n",
    "    Run backtest with given parameters and display results interactively.\n",
    "    \"\"\"\n",
    "    # Validate parameters\n",
    "    if fast_sma >= slow_sma:\n",
    "        with metrics_output:\n",
    "            clear_output()\n",
    "            print(\"❌ Error: Fast SMA must be less than Slow SMA\")\n",
    "        return\n",
    "    try:\n",
    "        # Fetch data\n",
    "        start_str = start_date.strftime('%Y-%m-%d')\n",
    "        end_str = end_date.strftime('%Y-%m-%d')\n",
    "        df = get_cached_df(ticker, start_str, end_str)\n",
    "        # Compute SMAs and signals\n",
    "        df['SMA_fast'] = compute_sma(df, fast_sma)\n",
    "        df['SMA_slow'] = compute_sma(df, slow_sma)\n",
    "        df = generate_signals(df)\n",
    "        # Run backtest\n",
    "        results = backtest_signals(df, initial_cash=initial_cash, transaction_cost=transaction_cost)\n",
    "        # Calculate metrics\n",
    "        cum_ret = compute_cumulative_return(results['portfolio_value'])\n",
    "        sharpe = compute_sharpe_ratio(results['portfolio_value'])\n",
    "        max_dd = compute_max_drawdown(results['portfolio_value'])\n",
    "        # Display metrics\n",
    "        with metrics_output:\n",
    "            clear_output()\n",
    "            print(f\"📊 Results for {ticker} ({start_str} to {end_str})\")\n",
    "            print(f\"SMA Pair: {fast_sma}/{slow_sma}\")\n",
    "            print(\"=\" * 50)\n",
    "            print(f\"Cumulative Return: {cum_ret:.2%}\")\n",
    "            print(f\"Sharpe Ratio:      {sharpe:.2f}\")\n",
    "            print(f\"Max Drawdown:      {max_dd:.2%}\")\n",
    "            print(f\"Final Portfolio:   ${results['portfolio_value'].iloc[-1]:,.0f}\")\n",
    "        # Display plots\n",
    "        with plots_output:\n",
    "            clear_output()\n",
    "            # Create subplots\n",
    "            fig, ((ax1, ax2), (ax3, ax4)) = plt.subplots(2, 2, figsize=(16, 12))\n",
    "            # Price and signals\n",
    "            ax1.plot(df.index, df['Close'], label='Close Price', alpha=0.7)\n",
    "            ax1.plot(df.index, df['SMA_fast'], label=f'SMA {fast_sma}', alpha=0.7)\n",
    "            ax1.plot(df.index, df['SMA_slow'], label=f'SMA {slow_sma}', alpha=0.7)\n",
    "            # Mark signals\n",
    "            buy_signals = (df['signal'].diff() > 0)\n",
    "            sell_signals = (df['signal'].diff() < 0)\n",
    "            ax1.scatter(df.index[buy_signals], df['Close'][buy_signals], marker='^', s=50, color='green', zorder=5, label='Buy')\n",
    "            ax1.scatter(df.index[sell_signals], df['Close'][sell_signals], marker='v', s=50, color='red', zorder=5, label='Sell')\n",
    "            ax1.set_title('Price and Signals')\n",
    "            ax1.legend()\n",
    "            ax1.grid(True, alpha=0.3)\n",
    "            # Equity curve\n",
    "            ax2.plot(results['portfolio_value'], linewidth=2)\n",
    "            ax2.set_title('Portfolio Equity Curve')\n",
    "            ax2.grid(True, alpha=0.3)\n",
    "            # Drawdown\n",
    "            cumulative_max = results['portfolio_value'].cummax()\n",
    "            drawdown = (results['portfolio_value'] - cumulative_max) / cumulative_max\n",
    "            ax3.fill_between(drawdown.index, drawdown.values, 0, alpha=0.3, color='red')\n",
    "            ax3.plot(drawdown.index, drawdown.values, linewidth=1, color='red')\n",
    "            ax3.set_title('Drawdown')\n",
    "            ax3.grid(True, alpha=0.3)\n",
    "            # Rolling Sharpe (if enough data)\n",
    "            if len(results['portfolio_value']) > 252:\n",
    "                returns = results['portfolio_value'].pct_change().dropna()\n",
    "                rolling_sharpe = returns.rolling(252).mean() / returns.rolling(252).std() * np.sqrt(252)\n",
    "                ax4.plot(rolling_sharpe.index, rolling_sharpe.values)\n",
    "                ax4.axhline(y=0, linestyle='--', alpha=0.5)\n",
    "                ax4.set_title('Rolling Sharpe Ratio (252-day)')\n",
    "            else:\n",
    "                ax4.text(0.5, 0.5, 'Insufficient data for rolling metrics', ha='center', va='center', transform=ax4.transAxes)\n",
    "                ax4.set_title('Rolling Metrics')\n",
    "            ax4.grid(True, alpha=0.3)\n",
    "            plt.tight_layout()\n",
    "            plt.show()\n",
    "    except Exception as e:\n",
    "        with metrics_output:\n",
    "            clear_output()\n",
    "            print(f\"❌ Error: {str(e)}\")\n",
    "        with plots_output:\n",
    "            clear_output()\n",
    "            print(f\"No plots to display due to error.\")\n",
    "\n",
    "# Create interactive function\n",
    "interactive_backtest = interact(\n",
    "    run_interactive_backtest,\n",
    "    ticker=ticker_widget,\n",
    "    start_date=start_date_widget,\n",
    "    end_date=end_date_widget,\n",
    "    fast_sma=fast_sma_widget,\n",
    "    slow_sma=slow_sma_widget,\n",
    "    initial_cash=initial_cash_widget,\n",
    "    transaction_cost=transaction_cost_widget\n",
    ")\n",
    "\n",
    "print(\"🎯 Interactive backtester ready! Adjust the parameters above to see real-time results.\")"
   ]
  },
  {
   "cell_type": "markdown",
   "id": "1ff2e69c",
   "metadata": {},
   "source": [
    "## Cell 5: Quick Parameter Presets"
   ]
  },
  {
   "cell_type": "code",
   "execution_count": 5,
   "id": "0f636491",
   "metadata": {},
   "outputs": [
    {
     "data": {
      "application/vnd.jupyter.widget-view+json": {
       "model_id": "e35bfa2997a84583a04af4b38338d48e",
       "version_major": 2,
       "version_minor": 0
      },
      "text/plain": [
       "Button(description='10/30\\xa0SPY', style=ButtonStyle())"
      ]
     },
     "metadata": {},
     "output_type": "display_data"
    },
    {
     "data": {
      "application/vnd.jupyter.widget-view+json": {
       "model_id": "0334ac49e37e435e9380863b9d1c41ab",
       "version_major": 2,
       "version_minor": 0
      },
      "text/plain": [
       "Button(description='20/50\\xa0QQQ', style=ButtonStyle())"
      ]
     },
     "metadata": {},
     "output_type": "display_data"
    },
    {
     "data": {
      "application/vnd.jupyter.widget-view+json": {
       "model_id": "2615561811324b7e83f2f7f2d59315ce",
       "version_major": 2,
       "version_minor": 0
      },
      "text/plain": [
       "Button(description='50/200\\xa0SPY', style=ButtonStyle())"
      ]
     },
     "metadata": {},
     "output_type": "display_data"
    }
   ],
   "source": [
    "# Preset buttons\n",
    "for name, (f, s, tkr) in {\n",
    "    '10/30 SPY': (10,30,'SPY'),\n",
    "    '20/50 QQQ': (20,50,'QQQ'),\n",
    "    '50/200 SPY':(50,200,'SPY')\n",
    "}.items():\n",
    "    btn = widgets.Button(description=name)\n",
    "    btn.on_click(lambda _, f=f, s=s, tkr=tkr: (\n",
    "        setattr(fast_sma_widget, 'value', f),\n",
    "        setattr(slow_sma_widget, 'value', s),\n",
    "        setattr(ticker_widget,    'value', tkr)\n",
    "    ))\n",
    "    display(btn)"
   ]
  },
  {
   "cell_type": "markdown",
   "id": "dce3fc3a",
   "metadata": {},
   "source": [
    "## Cell 6: Usage Instructions\n",
    "- Adjust the controls above to re‑run the backtest instantly.  \n",
    "- Preset buttons will jump to common SMA pairs.  \n",
    "- Invalid inputs show errors in the metrics pane."
   ]
  },
  {
   "cell_type": "code",
   "execution_count": null,
   "id": "2d4ec679-17fe-4898-98d0-eaf9340cc996",
   "metadata": {},
   "outputs": [],
   "source": []
  }
 ],
 "metadata": {
  "kernelspec": {
   "display_name": "Python 3 (ipykernel)",
   "language": "python",
   "name": "python3"
  },
  "language_info": {
   "codemirror_mode": {
    "name": "ipython",
    "version": 3
   },
   "file_extension": ".py",
   "mimetype": "text/x-python",
   "name": "python",
   "nbconvert_exporter": "python",
   "pygments_lexer": "ipython3",
   "version": "3.11.11"
  }
 },
 "nbformat": 4,
 "nbformat_minor": 5
}
